{
 "cells": [
  {
   "cell_type": "code",
   "execution_count": null,
   "metadata": {},
   "outputs": [],
   "source": [
    "import os\n",
    "import numpy as np\n",
    "import pandas as pd\n",
    "import pandavro as pdx\n",
    "\n",
    "OUTPUT_PATH='{}/example.avro'.format('../files_avro')\n",
    "\n",
    "df = pd.DataFrame({\n",
    "    \"Boolean\": [True, False, True, False],\n",
    "    \"pdBoolean\": pd.Series([True, None, True, False], dtype=pd.BooleanDtype()),\n",
    "    \"Float64\": np.random.randn(4),\n",
    "    \"Int64\": np.random.randint(0, 10, 4),\n",
    "    \"pdInt64\":  pd.Series(list(np.random.randint(0, 10, 3)) + [None], dtype=pd.Int64Dtype()),\n",
    "    \"String\": ['foo', 'bar', 'foo', 'bar'],\n",
    "    \"pdString\": pd.Series(['foo', 'bar', 'foo', None], dtype=pd.StringDtype()),\n",
    "    \"DateTime64\": [pd.Timestamp('20190101'), pd.Timestamp('20190102'),\n",
    "                    pd.Timestamp('20190103'), pd.Timestamp('20190104')]\n",
    "})\n",
    "\n",
    "pdx.to_avro(OUTPUT_PATH, df)\n",
    "saved = pdx.read_avro(OUTPUT_PATH)\n",
    "\n"
   ]
  },
  {
   "cell_type": "code",
   "execution_count": 69,
   "metadata": {},
   "outputs": [],
   "source": [
    "import json\n",
    "import pymysql\n",
    "from sqlalchemy import create_engine\n",
    "\n",
    "with open('..\\security\\parameters.json', 'r') as json_file:\n",
    "    parameters = json.load(json_file)\n",
    "    \n",
    "db_user = parameters['DB_USER']\n",
    "db_pass = parameters['DB_PASS']\n",
    "db_name = parameters['DB_NAME']\n",
    "db_host = parameters['DB_HOST']\n",
    "db_port = parameters['DB_PORT']\n",
    "\n",
    "def connect_database (db_user, db_pass, db_name, db_host):\n",
    "    connection = pymysql.connect(\n",
    "        host        = db_host,\n",
    "        user        = db_user, \n",
    "        password    = db_pass,\n",
    "        db          = db_name,\n",
    "    )\n",
    "    return connection\n",
    "\n",
    "def connect_engine(db_user, db_pass, db_name, db_host, db_port):\n",
    "    url=\"mysql+pymysql://{0}:{1}@{2}:{3}/{4}\".format(db_user, db_pass, db_host, db_port, db_name)\n",
    "    sqlEngine = create_engine(url)\n",
    "    connection    = sqlEngine.connect()\n",
    "    return connection\n",
    "\n",
    "conn = connect_database (db_user, db_pass, db_name, db_host)\n",
    "conn2 = connect_engine (db_user, db_pass, db_name, db_host, db_port)"
   ]
  },
  {
   "cell_type": "code",
   "execution_count": null,
   "metadata": {},
   "outputs": [],
   "source": [
    "def return_tables(conection):\n",
    "    cursor = conection.cursor()\n",
    "    cursor.execute(\"SELECT table_name FROM information_schema.tables a WHERE TABLE_SCHEMA  = 'mydbpoc'\")\n",
    "    tablas = cursor.fetchall()\n",
    "    cursor.close()\n",
    "    ls = []\n",
    "    for td in list(tablas): \n",
    "        ls.append(list(td)[0])\n",
    "    return ls  "
   ]
  },
  {
   "cell_type": "code",
   "execution_count": null,
   "metadata": {},
   "outputs": [],
   "source": [
    "tablas = return_tables(conn)\n",
    "print(tablas)\n",
    "table_name = 'jobs'\n",
    "query = (\"SELECT * FROM {}\").format(table_name)\n",
    "df_table = pd.read_sql(query, con = conn)\n",
    "print (df_table)\n",
    "\n",
    "pdx.to_avro(OUTPUT_PATH, df)\n"
   ]
  },
  {
   "cell_type": "code",
   "execution_count": 75,
   "metadata": {},
   "outputs": [
    {
     "name": "stdout",
     "output_type": "stream",
     "text": [
      "None\n"
     ]
    }
   ],
   "source": [
    "def backup_avro(conection):\n",
    "    tables = return_tables(conection)\n",
    "    for table in tables:\n",
    "        df_table = pd.DataFrame()\n",
    "        table_name = table\n",
    "        query = (\"SELECT * FROM {}\").format(table_name)\n",
    "        df_table = pd.read_sql(query, con = conn)\n",
    "        pdx.to_avro('../files_avro/{}.avro'.format(table_name), df_table)\n",
    "\n",
    "def rest_avro_table(engine, table_name):\n",
    "    engine.execute('TRUNCATE TABLE {}'.format(table_name))\n",
    "    data = pdx.read_avro('../files_avro/{}.avro'.format(table_name))\n",
    "    data.to_sql(table_name, engine, if_exists='append',index=False)\n",
    "\n",
    "rest_avro_table(conn2, 'mytable', )\n"
   ]
  }
 ],
 "metadata": {
  "kernelspec": {
   "display_name": "Python 3.9.7 ('base')",
   "language": "python",
   "name": "python3"
  },
  "language_info": {
   "codemirror_mode": {
    "name": "ipython",
    "version": 3
   },
   "file_extension": ".py",
   "mimetype": "text/x-python",
   "name": "python",
   "nbconvert_exporter": "python",
   "pygments_lexer": "ipython3",
   "version": "3.9.7"
  },
  "orig_nbformat": 4,
  "vscode": {
   "interpreter": {
    "hash": "ad2bdc8ecc057115af97d19610ffacc2b4e99fae6737bb82f5d7fb13d2f2c186"
   }
  }
 },
 "nbformat": 4,
 "nbformat_minor": 2
}
