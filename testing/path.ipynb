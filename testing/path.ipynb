{
 "cells": [
  {
   "cell_type": "code",
   "execution_count": 7,
   "metadata": {},
   "outputs": [
    {
     "name": "stdout",
     "output_type": "stream",
     "text": [
      "D:\\Usuarios\\EBARAHONA\\OneDrive\\Challenge\\poc-ingest-gcp\\testing\n"
     ]
    }
   ],
   "source": [
    "import pathlib\n",
    "mypath = pathlib.Path().resolve()\n",
    "print(mypath)"
   ]
  }
 ],
 "metadata": {
  "kernelspec": {
   "display_name": "Python 3.9.12 ('develop')",
   "language": "python",
   "name": "python3"
  },
  "language_info": {
   "codemirror_mode": {
    "name": "ipython",
    "version": 3
   },
   "file_extension": ".py",
   "mimetype": "text/x-python",
   "name": "python",
   "nbconvert_exporter": "python",
   "pygments_lexer": "ipython3",
   "version": "3.9.12"
  },
  "orig_nbformat": 4,
  "vscode": {
   "interpreter": {
    "hash": "e1ab2a1cfaadfa5cb9d582d6cf60b1f7e9bb29795aa2b9ebcd2e22d1179e378d"
   }
  }
 },
 "nbformat": 4,
 "nbformat_minor": 2
}
