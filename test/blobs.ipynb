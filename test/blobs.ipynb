{
 "cells": [
  {
   "cell_type": "code",
   "execution_count": 1,
   "id": "cb2dac4a",
   "metadata": {},
   "outputs": [
    {
     "name": "stderr",
     "output_type": "stream",
     "text": [
      "c:\\ProgramData\\Anaconda3\\lib\\site-packages\\scipy\\__init__.py:146: UserWarning: A NumPy version >=1.16.5 and <1.23.0 is required for this version of SciPy (detected version 1.23.1\n",
      "  warnings.warn(f\"A NumPy version >={np_minversion} and <{np_maxversion}\"\n"
     ]
    }
   ],
   "source": [
    "from google.cloud import storage\n",
    "from google.oauth2 import service_account\n",
    "from more_itertools import bucket\n",
    "from pandera import Column, Check\n",
    "from schema import Schema, And, Use, Optional, SchemaError\n",
    "import json\n",
    "import os\n",
    "import io\n",
    "import pandas as pd\n",
    "import pandera as pa\n",
    "\n",
    "with open('..\\security\\parameters.json', 'r') as json_file:\n",
    "    parameters = json.load(json_file)\n",
    "\n",
    "bucket_name = parameters['bucket_name']\n",
    "\n",
    "credentials = service_account.Credentials.from_service_account_file(\"..\\security\\parameters-key.json\")\n",
    "storage_client = storage.Client(credentials=credentials)\n",
    "bucket = storage_client.bucket(bucket_name)"
   ]
  },
  {
   "cell_type": "code",
   "execution_count": 2,
   "id": "b86d86b1",
   "metadata": {},
   "outputs": [],
   "source": [
    "from schema import Schema, And, Use\n",
    "\n",
    "schema_hired_employees1 = Schema({\n",
    "    'id': And(Use(int)),\n",
    "    'name': And(Use(str)),\n",
    "    'datetime': And(Use(str)),\n",
    "    'de_id': And(Use(int)),\n",
    "    'job_id': And(Use(int))\n",
    "})\n",
    "\n",
    "schema_departments1 = Schema({\n",
    "    'id': And(Use(int)),\n",
    "    'department': And(Use(str))\n",
    "})\n",
    "\n",
    "schema_jobs1 = Schema({\n",
    "    'id': And(Use(int)),\n",
    "    'job': And(Use(str))\n",
    "})\n"
   ]
  },
  {
   "cell_type": "code",
   "execution_count": 3,
   "id": "d8724b27",
   "metadata": {},
   "outputs": [],
   "source": [
    "columns_hired_employees = ['id', 'name', 'datetime', 'departament_id', 'job_id']\n",
    "columns_jobs = ['id', 'job']\n",
    "columns_departments = ['id', 'department']"
   ]
  },
  {
   "cell_type": "code",
   "execution_count": 4,
   "id": "c3a96720",
   "metadata": {},
   "outputs": [],
   "source": [
    "def validate_dataframe(filename, columns_names, schema_table, chunksize = 1000):\n",
    "    #Variables \n",
    "    data_validate = pd.DataFrame(columns=columns_names)\n",
    "    data_error = pd.DataFrame(columns=columns_names)\n",
    "    indexs_errors = pd.Series([],dtype=pd.Int32Dtype()) \n",
    "\n",
    "    #Data Blob\n",
    "    blob = bucket.blob(filename, chunk_size = 256 * 1024)\n",
    "    data = blob.download_as_string()\n",
    "   \n",
    "    for chunk in pd.read_csv(io.BytesIO(data), names=columns_names, header=None, chunksize=chunksize):\n",
    "        try:\n",
    "            schema_table(chunk, lazy=True)\n",
    "        except pa.errors.SchemaErrors as exc:\n",
    "            indexs_errors = pd.concat([indexs_errors, exc.failure_cases[\"index\"]])\n",
    "            print('Cantidad de errores: ', len(indexs_errors.index))\n",
    "        data_validate = pd.concat([data_validate, chunk[~chunk.index.isin(indexs_errors)]])\n",
    "        data_error = pd.concat([data_error, chunk[chunk.index.isin(indexs_errors)]])\n",
    "\n",
    "    return data_validate, data_error"
   ]
  },
  {
   "cell_type": "code",
   "execution_count": 6,
   "id": "ac92cebc",
   "metadata": {},
   "outputs": [],
   "source": [
    "blob2 = bucket.blob('poc-ingest/jobs.csv', chunk_size = 256 * 1024)\n",
    "data2 = blob2.download_as_string()\n",
    "#print(data)"
   ]
  },
  {
   "cell_type": "code",
   "execution_count": 8,
   "id": "cde10fc0",
   "metadata": {},
   "outputs": [
    {
     "name": "stdout",
     "output_type": "stream",
     "text": [
      "5000\n",
      "4990\n"
     ]
    }
   ],
   "source": [
    "filename = \"..\\\\files_csv\\\\hired_employees.csv\"\n",
    "\n",
    "chunksize = 1000\n",
    "for chunk in pd.read_csv(filename, chunksize=chunksize):\n",
    "    #print(chunk.count)\n",
    "    print(chunk.size)"
   ]
  }
 ],
 "metadata": {
  "kernelspec": {
   "display_name": "Python 3.9.7 ('base')",
   "language": "python",
   "name": "python3"
  },
  "language_info": {
   "codemirror_mode": {
    "name": "ipython",
    "version": 3
   },
   "file_extension": ".py",
   "mimetype": "text/x-python",
   "name": "python",
   "nbconvert_exporter": "python",
   "pygments_lexer": "ipython3",
   "version": "3.9.7"
  },
  "vscode": {
   "interpreter": {
    "hash": "ad2bdc8ecc057115af97d19610ffacc2b4e99fae6737bb82f5d7fb13d2f2c186"
   }
  }
 },
 "nbformat": 4,
 "nbformat_minor": 5
}
