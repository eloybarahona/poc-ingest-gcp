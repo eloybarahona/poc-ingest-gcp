{
 "cells": [
  {
   "cell_type": "code",
   "execution_count": 1,
   "metadata": {},
   "outputs": [
    {
     "name": "stdout",
     "output_type": "stream",
     "text": [
      "{'bucket_name': 'ebarahonabucket01', 'DB_USER': 'myguest', 'DB_PASS': 'jA$9<,C]TN`1JCxV', 'DB_NAME': 'mydbpoc', 'DB_HOST': '34.121.213.191', 'DB_PORT': '3306'}\n"
     ]
    }
   ],
   "source": [
    "import json\n",
    "import pymysql\n",
    "\n",
    "with open('..\\security\\parameters.json', 'r') as json_file:\n",
    "    parameters = json.load(json_file)\n",
    "\n",
    "print(parameters)"
   ]
  },
  {
   "cell_type": "code",
   "execution_count": 13,
   "metadata": {},
   "outputs": [],
   "source": [
    "db_user = parameters['DB_USER']\n",
    "db_pass = parameters['DB_PASS']\n",
    "db_name = parameters['DB_NAME']\n",
    "db_host = parameters['DB_HOST']\n",
    "db_port = parameters['DB_PORT']\n",
    "\n",
    "def connect_database (db_user, db_pass, db_name, db_host):\n",
    "    connection = pymysql.connect(\n",
    "        host        = db_host,\n",
    "        user        = db_user, \n",
    "        password    = db_pass,\n",
    "        db          = db_name,\n",
    "    )\n",
    "    cursor = connection.cursor()\n",
    "    return connection, cursor\n",
    "\n",
    "def str_columns(columns_query):\n",
    "    lc = len(columns_query)\n",
    "    strc = ''\n",
    "    val = ''\n",
    "    for index, column in enumerate(columns_query):\n",
    "        if index == 0:\n",
    "            strc = strc + '(' + column  + ', '  \n",
    "            val = val + '(%s, ' \n",
    "        elif index < lc - 1:\n",
    "            strc = strc + column + ', ' \n",
    "            val = val + '%s, '\n",
    "        elif index == lc - 1:\n",
    "            strc = strc + column + ')'\n",
    "            val = val + '%s)'\n",
    "    return strc, val\n",
    "\n",
    "def check_table(connection, table_name):\n",
    "    cursor = connection.cursor()\n",
    "    cursor.execute(\"\"\"\n",
    "        SELECT COUNT(*)\n",
    "        FROM information_schema.tables\n",
    "        WHERE table_name = '{0}'\n",
    "        \"\"\".format(table_name.replace('\\'', '\\'\\'')))\n",
    "    if cursor.fetchone()[0] == 1:\n",
    "        cursor.close()\n",
    "        return True\n",
    "    cursor.close()\n",
    "    return False\n",
    "\n",
    "def clean_create_table (connection, table_name, columns_table, columns_types):\n",
    "    cursor = connection.cursor()\n",
    "    if check_table(connection, table_name):\n",
    "        query = (\"TRUNCATE TABLE {0}\" ).format(table_name)    \n",
    "    else:\n",
    "        #Cambia el tipo de dato para lo 'str'  \n",
    "        ilist = columns_types.index('str')\n",
    "        columns_types = columns_types[:ilist]+['varchar(100)']+columns_types[ilist+1:]\n",
    "        lc = len(columns_table)\n",
    "        strc = ''\n",
    "        val = ''\n",
    "        for index, column in enumerate(columns_table):\n",
    "            if index == 0:\n",
    "                strc = strc + '(' + column  + ' ' + columns_types[index] + ', '\n",
    "            elif index < lc - 1:\n",
    "                strc = strc + column + ' ' + columns_types[index] + ', '\n",
    "            elif index == lc - 1:\n",
    "                strc = strc + column + ' ' + columns_types[index] + ')'\n",
    "        query = (\"CREATE TABLE {0} {1}\" ).format(table_name, strc)\n",
    "    cursor.execute(query)\n",
    "    connection.commit()\n",
    "    cursor.close()  \n",
    "\n",
    "def query_batch(strc, val):\n",
    "    query = (\"INSERT INTO mytable {0} VALUES {1}\").format(strc, val)\n",
    "    return query\n",
    "\n",
    "def load_orders(connection, query, data, batch_size=10000):\n",
    "    cursor = connection.cursor()\n",
    "    for i in range(0, len(data), batch_size):\n",
    "        cursor.executemany(query, data[i:i+batch_size])\n",
    "        connection.commit()\n",
    "        print('Datos cargados...')\n",
    "    cursor.close()"
   ]
  },
  {
   "cell_type": "code",
   "execution_count": 3,
   "metadata": {},
   "outputs": [],
   "source": [
    "conn, curs = connect_database (db_user, db_pass, db_name, db_host)"
   ]
  },
  {
   "cell_type": "code",
   "execution_count": 4,
   "metadata": {},
   "outputs": [
    {
     "name": "stdout",
     "output_type": "stream",
     "text": [
      "   id   name\n",
      "0  42   Juan\n",
      "1  40  Laura\n",
      "2  37   Pepe\n"
     ]
    }
   ],
   "source": [
    "import pandas as pd\n",
    "\n",
    "name = ['Juan', 'Laura', 'Pepe']\n",
    "id = [42, 40, 37]\n",
    "\n",
    "data_mytable = pd.DataFrame([], columns=['id', 'name'])\n",
    "data_mytable['id'] = id\n",
    "data_mytable['name'] = name\n",
    "\n",
    "print(data_mytable)"
   ]
  },
  {
   "cell_type": "code",
   "execution_count": null,
   "metadata": {},
   "outputs": [],
   "source": [
    "list(range(0, len(data_mytable.values.tolist()), 10000))"
   ]
  },
  {
   "cell_type": "code",
   "execution_count": 5,
   "metadata": {},
   "outputs": [
    {
     "name": "stdout",
     "output_type": "stream",
     "text": [
      "2\n",
      "INSERT INTO mytable (id, name) VALUES (%s, %s)\n"
     ]
    }
   ],
   "source": [
    "columns_query = ['id', 'name']\n",
    "lc = len(columns_query)\n",
    "print(lc)\n",
    "strc = ''\n",
    "val = ''\n",
    "for index, column in enumerate(columns_query):\n",
    "    if index == 0:\n",
    "        strc = strc + '(' + column  + ', '  \n",
    "        val = val + '(%s, ' \n",
    "    elif index < lc - 1:\n",
    "        strc = strc + column + ', ' \n",
    "        val = val + '%s, '\n",
    "    elif index == lc - 1:\n",
    "        strc = strc + column + ')'\n",
    "        val = val + '%s)'\n",
    "\n",
    "query = (\"INSERT INTO mytable {0} VALUES {1}\").format(strc, val)\n",
    "\n",
    "print(query)"
   ]
  },
  {
   "cell_type": "code",
   "execution_count": 7,
   "metadata": {},
   "outputs": [
    {
     "name": "stdout",
     "output_type": "stream",
     "text": [
      "Cargando datos...\n"
     ]
    }
   ],
   "source": [
    "load_orders(conn, curs, query, data_mytable.values.tolist(), batch_size=10000)"
   ]
  },
  {
   "cell_type": "code",
   "execution_count": 9,
   "metadata": {},
   "outputs": [],
   "source": []
  },
  {
   "cell_type": "code",
   "execution_count": 33,
   "metadata": {},
   "outputs": [],
   "source": [
    "  \n"
   ]
  },
  {
   "cell_type": "code",
   "execution_count": 35,
   "metadata": {},
   "outputs": [
    {
     "name": "stdout",
     "output_type": "stream",
     "text": [
      "TRUNCATE TABLE mytable2\n"
     ]
    }
   ],
   "source": [
    "columns_table = ['id', 'name']\n",
    "columns_types = ['int', 'str']\n",
    "table_name = 'mytable2'\n",
    "\n",
    "\n",
    "clean_create_table (conn, table_name, columns_table, columns_types)\n"
   ]
  },
  {
   "cell_type": "code",
   "execution_count": 11,
   "metadata": {},
   "outputs": [
    {
     "name": "stdout",
     "output_type": "stream",
     "text": [
      "True\n"
     ]
    }
   ],
   "source": [
    "result = check_table(conn, 'mytable')\n",
    "print(result)"
   ]
  },
  {
   "cell_type": "code",
   "execution_count": null,
   "metadata": {},
   "outputs": [],
   "source": []
  }
 ],
 "metadata": {
  "kernelspec": {
   "display_name": "Python 3.9.7 ('base')",
   "language": "python",
   "name": "python3"
  },
  "language_info": {
   "codemirror_mode": {
    "name": "ipython",
    "version": 3
   },
   "file_extension": ".py",
   "mimetype": "text/x-python",
   "name": "python",
   "nbconvert_exporter": "python",
   "pygments_lexer": "ipython3",
   "version": "3.9.7"
  },
  "orig_nbformat": 4,
  "vscode": {
   "interpreter": {
    "hash": "ad2bdc8ecc057115af97d19610ffacc2b4e99fae6737bb82f5d7fb13d2f2c186"
   }
  }
 },
 "nbformat": 4,
 "nbformat_minor": 2
}
